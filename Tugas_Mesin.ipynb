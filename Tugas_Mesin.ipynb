{
  "nbformat": 4,
  "nbformat_minor": 0,
  "metadata": {
    "colab": {
      "provenance": [],
      "toc_visible": true,
      "authorship_tag": "ABX9TyPSIHFrDVKdqRduZ8NV7Emw",
      "include_colab_link": true
    },
    "kernelspec": {
      "name": "python3",
      "display_name": "Python 3"
    },
    "language_info": {
      "name": "python"
    }
  },
  "cells": [
    {
      "cell_type": "markdown",
      "metadata": {
        "id": "view-in-github",
        "colab_type": "text"
      },
      "source": [
        "<a href=\"https://colab.research.google.com/github/thelittleyellow/Nanasphi/blob/main/Tugas_Mesin.ipynb\" target=\"_parent\"><img src=\"https://colab.research.google.com/assets/colab-badge.svg\" alt=\"Open In Colab\"/></a>"
      ]
    },
    {
      "cell_type": "code",
      "execution_count": null,
      "metadata": {
        "colab": {
          "base_uri": "https://localhost:8080/"
        },
        "id": "YVWayNlf2_mx",
        "outputId": "c4501db4-7fff-4c62-cf24-b5f0b24ad054"
      },
      "outputs": [
        {
          "output_type": "stream",
          "name": "stdout",
          "text": [
            "Data loaded!\n",
            "Train: (784, 41000) (41000,)\n",
            "Dev  : (784, 1000) (1000,)\n"
          ]
        }
      ],
      "source": [
        "import numpy as np\n",
        "import matplotlib.pyplot as plt\n",
        "import pandas as pd\n",
        "\n",
        "\n",
        "data = pd.read_csv(\"/content/train.csv\")\n",
        "m, n = data.shape\n",
        "data = np.array(data)\n",
        "\n",
        "data_dev = data[0:1000].T\n",
        "Y_dev = data_dev[0]\n",
        "X_dev = data_dev[1:n]\n",
        "\n",
        "data_train = data[1000:m].T\n",
        "Y_train = data_train[0]\n",
        "X_train = data_train[1:n]\n",
        "\n",
        "print(\"Data loaded!\")\n",
        "print(\"Train:\", X_train.shape, Y_train.shape)\n",
        "print(\"Dev  :\", X_dev.shape, Y_dev.shape)"
      ]
    },
    {
      "cell_type": "code",
      "source": [
        "def initialize_parameters():\n",
        "    W1 = np.random.randn(64, 784) * 0.01\n",
        "    b1 = np.zeros((64, 1))\n",
        "    W2 = np.random.randn(10, 64) * 0.01\n",
        "    b2 = np.zeros((10, 1))\n",
        "    return W1, b1, W2, b2\n",
        "\n",
        "def relu(Z): return np.maximum(0, Z)\n",
        "\n",
        "def softmax(Z):\n",
        "    shiftZ = Z - np.max(Z, axis=0, keepdims=True)\n",
        "    expZ = np.exp(shiftZ)\n",
        "    return expZ / np.sum(expZ, axis=0, keepdims=True)\n",
        "\n",
        "def forward_propagation(X, W1, b1, W2, b2):\n",
        "    Z1 = np.dot(W1, X) + b1\n",
        "    A1 = relu(Z1)\n",
        "    Z2 = np.dot(W2, A1) + b2\n",
        "    A2 = softmax(Z2)\n",
        "    return Z1, A1, Z2, A2\n",
        "\n",
        "def one_hot(Y):\n",
        "    Y = Y.astype(int).flatten()\n",
        "    one_hot_Y = np.zeros((Y.max() + 1, Y.size))\n",
        "    one_hot_Y[Y, np.arange(Y.size)] = 1\n",
        "    return one_hot_Y\n",
        "\n",
        "def dReLU(Z): return Z > 0\n",
        "\n",
        "def backward_propagation(Z1, A1, Z2, A2, W1, W2, X, Y):\n",
        "    m = X.shape[1]\n",
        "    one_hot_Y = one_hot(Y)\n",
        "    dZ2 = A2 - one_hot_Y\n",
        "    dW2 = 1/m * np.dot(dZ2, A1.T)\n",
        "    db2 = 1/m * np.sum(dZ2, axis=1, keepdims=True)\n",
        "    dZ1 = np.dot(W2.T, dZ2) * dReLU(Z1)\n",
        "    dW1 = 1/m * np.dot(dZ1, X.T)\n",
        "    db1 = 1/m * np.sum(dZ1, axis=1, keepdims=True)\n",
        "    return dW1, db1, dW2, db2\n",
        "\n",
        "def update_parameters(W1, b1, W2, b2, dW1, db1, dW2, db2, alpha):\n",
        "    W1 -= alpha * dW1\n",
        "    b1 -= alpha * db1\n",
        "    W2 -= alpha * dW2\n",
        "    b2 -= alpha * db2\n",
        "    return W1, b1, W2, b2\n"
      ],
      "metadata": {
        "id": "jdhPTCNhB6l1"
      },
      "execution_count": null,
      "outputs": []
    },
    {
      "cell_type": "code",
      "source": [
        "def get_predictions(A2):\n",
        "    return np.argmax(A2, 0)\n",
        "\n",
        "def get_accuracy(predictions, Y):\n",
        "    return np.sum(predictions == Y) / Y.size\n",
        "\n",
        "def gradient_descent(X, Y, alpha, iterations):\n",
        "    W1, b1, W2, b2 = initialize_parameters()\n",
        "    for i in range(int(iterations)):\n",
        "        Z1, A1, Z2, A2 = forward_propagation(X, W1, b1, W2, b2)\n",
        "        dW1, db1, dW2, db2 = backward_propagation(Z1, A1, Z2, A2, W1, W2, X, Y)\n",
        "        W1, b1, W2, b2 = update_parameters(W1, b1, W2, b2, dW1, db1, dW2, db2, alpha)\n",
        "        if i % 10 == 0 or i == iterations -1:\n",
        "            print(\"Iteration:\", i)\n",
        "            predictions = get_predictions(A2)\n",
        "            print(\"Accuracy:\", get_accuracy(get_predictions(A2), Y))\n",
        "    return W1, b1, W2, b2"
      ],
      "metadata": {
        "id": "_TZl-RXa75S3"
      },
      "execution_count": null,
      "outputs": []
    },
    {
      "cell_type": "code",
      "source": [
        "W1, b1, W2, b2 = gradient_descent(X_train, Y_train, alpha=0.001, iterations=500)\n",
        "print(\"Dev accuracy:\", get_accuracy(make_predictions(X_dev, W1, b1, W2, b2), Y_dev))"
      ],
      "metadata": {
        "colab": {
          "base_uri": "https://localhost:8080/"
        },
        "id": "elz4PzSN8D4v",
        "outputId": "dad0ed6b-f52f-4658-d40a-1d72f47b88fa"
      },
      "execution_count": null,
      "outputs": [
        {
          "output_type": "stream",
          "name": "stdout",
          "text": [
            "Iteration: 0\n",
            "Accuracy: 0.09207317073170732\n",
            "Iteration: 10\n",
            "Accuracy: 0.6637560975609756\n",
            "Iteration: 20\n",
            "Accuracy: 0.7780487804878049\n",
            "Iteration: 30\n",
            "Accuracy: 0.8196097560975609\n",
            "Iteration: 40\n",
            "Accuracy: 0.8422439024390244\n",
            "Iteration: 50\n",
            "Accuracy: 0.8564146341463414\n",
            "Iteration: 60\n",
            "Accuracy: 0.8668780487804878\n",
            "Iteration: 70\n",
            "Accuracy: 0.8751951219512195\n",
            "Iteration: 80\n",
            "Accuracy: 0.8806341463414634\n",
            "Iteration: 90\n",
            "Accuracy: 0.8850731707317073\n",
            "Iteration: 100\n",
            "Accuracy: 0.889219512195122\n",
            "Iteration: 110\n",
            "Accuracy: 0.8926341463414634\n",
            "Iteration: 120\n",
            "Accuracy: 0.8954146341463415\n",
            "Iteration: 130\n",
            "Accuracy: 0.8981219512195122\n",
            "Iteration: 140\n",
            "Accuracy: 0.9010731707317073\n",
            "Iteration: 150\n",
            "Accuracy: 0.9030243902439025\n",
            "Iteration: 160\n",
            "Accuracy: 0.9050975609756098\n",
            "Iteration: 170\n",
            "Accuracy: 0.9067804878048781\n",
            "Iteration: 180\n",
            "Accuracy: 0.9087804878048781\n",
            "Iteration: 190\n",
            "Accuracy: 0.9104634146341464\n",
            "Iteration: 200\n",
            "Accuracy: 0.9119268292682927\n",
            "Iteration: 210\n",
            "Accuracy: 0.9134146341463415\n",
            "Iteration: 220\n",
            "Accuracy: 0.9142926829268293\n",
            "Iteration: 230\n",
            "Accuracy: 0.9160487804878049\n",
            "Iteration: 240\n",
            "Accuracy: 0.9171951219512195\n",
            "Iteration: 250\n",
            "Accuracy: 0.9182926829268293\n",
            "Iteration: 260\n",
            "Accuracy: 0.9192926829268293\n",
            "Iteration: 270\n",
            "Accuracy: 0.9204146341463415\n",
            "Iteration: 280\n",
            "Accuracy: 0.9215853658536586\n",
            "Iteration: 290\n",
            "Accuracy: 0.9226341463414635\n",
            "Iteration: 300\n",
            "Accuracy: 0.9237317073170732\n",
            "Iteration: 310\n",
            "Accuracy: 0.924829268292683\n",
            "Iteration: 320\n",
            "Accuracy: 0.9257317073170732\n",
            "Iteration: 330\n",
            "Accuracy: 0.926829268292683\n",
            "Iteration: 340\n",
            "Accuracy: 0.9275609756097561\n",
            "Iteration: 350\n",
            "Accuracy: 0.928219512195122\n",
            "Iteration: 360\n",
            "Accuracy: 0.9289512195121952\n",
            "Iteration: 370\n",
            "Accuracy: 0.9296585365853659\n",
            "Iteration: 380\n",
            "Accuracy: 0.9304634146341464\n",
            "Iteration: 390\n",
            "Accuracy: 0.9310243902439025\n",
            "Iteration: 400\n",
            "Accuracy: 0.9319268292682927\n",
            "Iteration: 410\n",
            "Accuracy: 0.9326829268292683\n",
            "Iteration: 420\n",
            "Accuracy: 0.9331707317073171\n",
            "Iteration: 430\n",
            "Accuracy: 0.9339756097560976\n",
            "Iteration: 440\n",
            "Accuracy: 0.9347804878048781\n",
            "Iteration: 450\n",
            "Accuracy: 0.9355121951219513\n",
            "Iteration: 460\n",
            "Accuracy: 0.9361951219512196\n",
            "Iteration: 470\n",
            "Accuracy: 0.9369024390243903\n",
            "Iteration: 480\n",
            "Accuracy: 0.9375853658536585\n",
            "Iteration: 490\n",
            "Accuracy: 0.9381463414634146\n",
            "Iteration: 499\n",
            "Accuracy: 0.9384634146341463\n"
          ]
        },
        {
          "output_type": "error",
          "ename": "NameError",
          "evalue": "name 'make_predictions' is not defined",
          "traceback": [
            "\u001b[0;31m---------------------------------------------------------------------------\u001b[0m",
            "\u001b[0;31mNameError\u001b[0m                                 Traceback (most recent call last)",
            "\u001b[0;32m/tmp/ipython-input-1878645288.py\u001b[0m in \u001b[0;36m<cell line: 0>\u001b[0;34m()\u001b[0m\n\u001b[1;32m      1\u001b[0m \u001b[0mW1\u001b[0m\u001b[0;34m,\u001b[0m \u001b[0mb1\u001b[0m\u001b[0;34m,\u001b[0m \u001b[0mW2\u001b[0m\u001b[0;34m,\u001b[0m \u001b[0mb2\u001b[0m \u001b[0;34m=\u001b[0m \u001b[0mgradient_descent\u001b[0m\u001b[0;34m(\u001b[0m\u001b[0mX_train\u001b[0m\u001b[0;34m,\u001b[0m \u001b[0mY_train\u001b[0m\u001b[0;34m,\u001b[0m \u001b[0malpha\u001b[0m\u001b[0;34m=\u001b[0m\u001b[0;36m0.001\u001b[0m\u001b[0;34m,\u001b[0m \u001b[0miterations\u001b[0m\u001b[0;34m=\u001b[0m\u001b[0;36m500\u001b[0m\u001b[0;34m)\u001b[0m\u001b[0;34m\u001b[0m\u001b[0;34m\u001b[0m\u001b[0m\n\u001b[0;32m----> 2\u001b[0;31m \u001b[0mprint\u001b[0m\u001b[0;34m(\u001b[0m\u001b[0;34m\"Dev accuracy:\"\u001b[0m\u001b[0;34m,\u001b[0m \u001b[0mget_accuracy\u001b[0m\u001b[0;34m(\u001b[0m\u001b[0mmake_predictions\u001b[0m\u001b[0;34m(\u001b[0m\u001b[0mX_dev\u001b[0m\u001b[0;34m,\u001b[0m \u001b[0mW1\u001b[0m\u001b[0;34m,\u001b[0m \u001b[0mb1\u001b[0m\u001b[0;34m,\u001b[0m \u001b[0mW2\u001b[0m\u001b[0;34m,\u001b[0m \u001b[0mb2\u001b[0m\u001b[0;34m)\u001b[0m\u001b[0;34m,\u001b[0m \u001b[0mY_dev\u001b[0m\u001b[0;34m)\u001b[0m\u001b[0;34m)\u001b[0m\u001b[0;34m\u001b[0m\u001b[0;34m\u001b[0m\u001b[0m\n\u001b[0m",
            "\u001b[0;31mNameError\u001b[0m: name 'make_predictions' is not defined"
          ]
        }
      ]
    },
    {
      "cell_type": "code",
      "source": [
        "def make_predictions(X, W1, b1, W2, b2):\n",
        "    _, _, _, A2 = forward_propagation(X, W1, b1, W2, b2)\n",
        "    predictions = get_predictions(A2)\n",
        "    return predictions\n",
        "\n",
        "def test_prediction(index, X, Y, W1, b1, W2, b2):\n",
        "    current_image = X[:, index, None]\n",
        "    prediction = make_predictions(X[:, index, None], W1, b1, W2, b2)\n",
        "    label = Y.flatten()[index]\n",
        "    print(\"Prediction:\", int(prediction))\n",
        "    print(\"Label     :\", label)\n",
        "\n",
        "    img = current_image.reshape((28, 28)) * 255\n",
        "    plt.gray()\n",
        "    plt.imshow(img, interpolation=\"nearest\")\n",
        "    plt.show()\n",
        "\n"
      ],
      "metadata": {
        "id": "cOWarCeY-Ity"
      },
      "execution_count": null,
      "outputs": []
    },
    {
      "cell_type": "code",
      "source": [
        "test_prediction(98, X_dev, Y_dev, W1, b1, W2, b2)"
      ],
      "metadata": {
        "colab": {
          "base_uri": "https://localhost:8080/",
          "height": 519
        },
        "id": "OAe8RYsbA-nW",
        "outputId": "a0c1f8b3-38d6-4173-cdd7-29d71f1b2346"
      },
      "execution_count": null,
      "outputs": [
        {
          "output_type": "stream",
          "name": "stdout",
          "text": [
            "Prediction: 0\n",
            "Label     : 0\n"
          ]
        },
        {
          "output_type": "stream",
          "name": "stderr",
          "text": [
            "/tmp/ipython-input-2019373324.py:10: DeprecationWarning: Conversion of an array with ndim > 0 to a scalar is deprecated, and will error in future. Ensure you extract a single element from your array before performing this operation. (Deprecated NumPy 1.25.)\n",
            "  print(\"Prediction:\", int(prediction))\n"
          ]
        },
        {
          "output_type": "display_data",
          "data": {
            "text/plain": [
              "<Figure size 640x480 with 1 Axes>"
            ],
            "image/png": "[encoded data removed]"
          },
          "metadata": {}
        }
      ]
    }
  ]
}